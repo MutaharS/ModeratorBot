{
  "nbformat": 4,
  "nbformat_minor": 0,
  "metadata": {
    "colab": {
      "name": "Moderator Bot.ipynb",
      "provenance": [],
      "collapsed_sections": []
    },
    "kernelspec": {
      "name": "python3",
      "display_name": "Python 3"
    },
    "language_info": {
      "name": "python"
    }
  },
  "cells": [
    {
      "cell_type": "markdown",
      "metadata": {
        "id": "9lbFCQDBEN9a"
      },
      "source": [
        "# 1. Preliminaries"
      ]
    },
    {
      "cell_type": "markdown",
      "metadata": {
        "id": "KF3F9OLgBBP2"
      },
      "source": [
        "## 1.1 Setup Discord\n",
        "<p>\n",
        "  <ul>\n",
        "    <li>Create Discord account, confirm email, set developer mode on in settings</li>\n",
        "    <li>Create a server</li>\n",
        "    <li>Go to discord.com/developers/ and create an application</li>\n",
        "    <li>Create a bot, declare intents, add to server</li>\n",
        "    \n",
        "  </ul>\n",
        "</p>"
      ]
    },
    {
      "cell_type": "markdown",
      "metadata": {
        "id": "4_SongFFbaqV"
      },
      "source": [
        "## 1.2 Install Dependencies"
      ]
    },
    {
      "cell_type": "code",
      "metadata": {
        "colab": {
          "base_uri": "https://localhost:8080/"
        },
        "id": "xjv5cemLVS_9",
        "outputId": "86235e59-8ba3-45fe-f4ce-cf90a90bb41e"
      },
      "source": [
        "!pip install discord.py\n",
        "!pip install colab-env --upgrade"
      ],
      "execution_count": null,
      "outputs": [
        {
          "output_type": "stream",
          "name": "stdout",
          "text": [
            "Requirement already satisfied: discord.py in /usr/local/lib/python3.7/dist-packages (1.7.3)\n",
            "Requirement already satisfied: aiohttp<3.8.0,>=3.6.0 in /usr/local/lib/python3.7/dist-packages (from discord.py) (3.7.4.post0)\n",
            "Requirement already satisfied: yarl<2.0,>=1.0 in /usr/local/lib/python3.7/dist-packages (from aiohttp<3.8.0,>=3.6.0->discord.py) (1.7.0)\n",
            "Requirement already satisfied: typing-extensions>=3.6.5 in /usr/local/lib/python3.7/dist-packages (from aiohttp<3.8.0,>=3.6.0->discord.py) (3.7.4.3)\n",
            "Requirement already satisfied: async-timeout<4.0,>=3.0 in /usr/local/lib/python3.7/dist-packages (from aiohttp<3.8.0,>=3.6.0->discord.py) (3.0.1)\n",
            "Requirement already satisfied: attrs>=17.3.0 in /usr/local/lib/python3.7/dist-packages (from aiohttp<3.8.0,>=3.6.0->discord.py) (21.2.0)\n",
            "Requirement already satisfied: chardet<5.0,>=2.0 in /usr/local/lib/python3.7/dist-packages (from aiohttp<3.8.0,>=3.6.0->discord.py) (3.0.4)\n",
            "Requirement already satisfied: multidict<7.0,>=4.5 in /usr/local/lib/python3.7/dist-packages (from aiohttp<3.8.0,>=3.6.0->discord.py) (5.2.0)\n",
            "Requirement already satisfied: idna>=2.0 in /usr/local/lib/python3.7/dist-packages (from yarl<2.0,>=1.0->aiohttp<3.8.0,>=3.6.0->discord.py) (2.10)\n",
            "Requirement already satisfied: colab-env in /usr/local/lib/python3.7/dist-packages (0.2.0)\n",
            "Requirement already satisfied: python-dotenv<1.0,>=0.10.0 in /usr/local/lib/python3.7/dist-packages (from colab-env) (0.19.1)\n"
          ]
        }
      ]
    },
    {
      "cell_type": "markdown",
      "metadata": {
        "id": "CzCjV6MSEWnQ"
      },
      "source": [
        "## 1.3 Setup Google Drive Access"
      ]
    },
    {
      "cell_type": "code",
      "metadata": {
        "colab": {
          "base_uri": "https://localhost:8080/"
        },
        "id": "JByLSoHsbq8i",
        "outputId": "fdd5b07e-7db9-470d-ac09-eeebbc31c003"
      },
      "source": [
        "from google.colab import drive\n",
        "drive.mount('/content/drive')"
      ],
      "execution_count": null,
      "outputs": [
        {
          "output_type": "stream",
          "name": "stdout",
          "text": [
            "Mounted at /content/drive\n"
          ]
        }
      ]
    },
    {
      "cell_type": "markdown",
      "metadata": {
        "id": "o7K6UMrBCgzG"
      },
      "source": [
        "## 1.4 Imports"
      ]
    },
    {
      "cell_type": "code",
      "metadata": {
        "id": "x2gkix1IVZyT"
      },
      "source": [
        "import os, re\n",
        "import asyncio\n",
        "import discord\n",
        "import colab_env"
      ],
      "execution_count": null,
      "outputs": []
    },
    {
      "cell_type": "markdown",
      "metadata": {
        "id": "D7VVa303Cm5O"
      },
      "source": [
        "# 1.5 Setup Environment Variables (Discord Token)"
      ]
    },
    {
      "cell_type": "code",
      "metadata": {
        "colab": {
          "base_uri": "https://localhost:8080/"
        },
        "id": "QvAlVTWTc9bq",
        "outputId": "710a1c47-2228-43df-f48e-1b9d9e1e4a35"
      },
      "source": [
        "!cat gdrive/My\\ Drive/vars.env"
      ],
      "execution_count": null,
      "outputs": [
        {
          "output_type": "stream",
          "name": "stdout",
          "text": [
            "COLAB_ENV = Active\n",
            "TOKEN = ODk3MjE2NDA3MzI5MjAyMTc3.YWSb5A.W6J4k6CoU9mdDMCGA4xYZyxCkQo\n"
          ]
        }
      ]
    },
    {
      "cell_type": "code",
      "metadata": {
        "colab": {
          "base_uri": "https://localhost:8080/"
        },
        "id": "rLzChDW9dGi6",
        "outputId": "520750fe-bde7-486a-f7b2-a9de25959b9b"
      },
      "source": [
        "# Add Discord Bot token to the environment variables\n",
        "colab_env.envvar_handler.add_env(\"TEST\", \"HELLO WORLD\", overwrite=True)\n",
        "colab_env.envvar_handler.add_env(\"TOKEN\", \"ODk3MjE2NDA3MzI5MjAyMTc3.YWSb5A.W6J4k6CoU9mdDMCGA4xYZyxCkQo\", overwrite=True)\n",
        "!cat gdrive/My\\ Drive/vars.env"
      ],
      "execution_count": null,
      "outputs": [
        {
          "output_type": "stream",
          "name": "stdout",
          "text": [
            "COLAB_ENV = Active\n",
            "TOKEN = ODk3MjE2NDA3MzI5MjAyMTc3.YWSb5A.W6J4k6CoU9mdDMCGA4xYZyxCkQo\n",
            "TEST = HELLO WORLD\n"
          ]
        }
      ]
    },
    {
      "cell_type": "code",
      "metadata": {
        "colab": {
          "base_uri": "https://localhost:8080/"
        },
        "id": "qSsZPcSXDQSX",
        "outputId": "7adcdf32-a42c-4394-8508-8cf4f2963f87"
      },
      "source": [
        "# Might need to delete variables? This is how!\n",
        "colab_env.envvar_handler.del_env(\"TEST\")\n",
        "!cat gdrive/My\\ Drive/vars.env"
      ],
      "execution_count": null,
      "outputs": [
        {
          "output_type": "stream",
          "name": "stdout",
          "text": [
            "COLAB_ENV = Active\n",
            "TOKEN = ODk3MjE2NDA3MzI5MjAyMTc3.YWSb5A.W6J4k6CoU9mdDMCGA4xYZyxCkQo\n"
          ]
        }
      ]
    },
    {
      "cell_type": "code",
      "metadata": {
        "id": "x6gxD5kmDx09"
      },
      "source": [
        "# To actually get the value stored for a variable\n",
        "# os.getenv(\"TOKEN\")"
      ],
      "execution_count": null,
      "outputs": []
    },
    {
      "cell_type": "markdown",
      "metadata": {
        "id": "sCOxft0_EGol"
      },
      "source": [
        "# 5. Let's get our bot running!"
      ]
    },
    {
      "cell_type": "markdown",
      "metadata": {
        "id": "uLmkBQLNJCFC"
      },
      "source": [
        ""
      ]
    },
    {
      "cell_type": "code",
      "metadata": {
        "id": "44TV46jSEFeu"
      },
      "source": [
        "# Get our token\n",
        "TOKEN = os.getenv(\"TOKEN\")\n",
        "\n",
        "# Declare intents\n",
        "intents = discord.Intents.all()\n",
        "intents.members = True\n",
        "\n",
        "# map of users to their strikes\n",
        "map = {}\n",
        "\n",
        "# Instantiate the bot\n",
        "client = discord.Client(intents=intents)"
      ],
      "execution_count": null,
      "outputs": []
    },
    {
      "cell_type": "code",
      "metadata": {
        "colab": {
          "base_uri": "https://localhost:8080/"
        },
        "id": "b1Ze1j3LfN8n",
        "outputId": "8c1130e8-b335-48a3-cb04-744670c944d1"
      },
      "source": [
        "# Let's define some bad words for our moderator to detect\n",
        "bad_words = ['pickle', 'tomato', 'oracle']\n",
        "bad_words = words_to_expressions(bad_words)\n",
        "bad_words"
      ],
      "execution_count": null,
      "outputs": [
        {
          "output_type": "stream",
          "name": "stdout",
          "text": [
            "From algorithm2: p.*i.*c.*k.*l.*e\n",
            "From algorithm2: t.*o.*m.*a.*t.*o\n",
            "From algorithm2: o.*r.*a.*c.*l.*e\n"
          ]
        },
        {
          "output_type": "execute_result",
          "data": {
            "text/plain": [
              "['p.*i.*c.*k.*l.*e', 't.*o.*m.*a.*t.*o', 'o.*r.*a.*c.*l.*e']"
            ]
          },
          "metadata": {},
          "execution_count": 218
        }
      ]
    },
    {
      "cell_type": "code",
      "metadata": {
        "id": "4s5NYJZqFpEg"
      },
      "source": [
        "# Define our first event\n",
        "@client.event\n",
        "async def on_ready():\n",
        "  general = client.get_channel(897217041210155071)\n",
        "  await general.send(f'{client.user} has connected to Discord!')\n",
        "\n",
        "# Listen for messages\n",
        "@client.event\n",
        "async def on_message(message):\n",
        "  # We don't want to call this on our own messages (infinite feedback loop == bad)\n",
        "  if message.author == client.user:\n",
        "    return\n",
        "\n",
        "  # Let's moderate!\n",
        "  found = [re.search(word, message.content.lower()) for word in bad_words]\n",
        "  if any(found):\n",
        "    # Keep track of the offending user's strikes\n",
        "    if message.author in map.keys():\n",
        "      map[message.author] += 1\n",
        "    else:\n",
        "      map[message.author] = 1\n",
        "    # If they exceed 3 strikes, that's a ban/kick or whatever it may be\n",
        "    if map[message.author] >= 3:\n",
        "      await message.channel.send(f'Sorry {message.author}, you\\'re outta here.')\n",
        "    else:\n",
        "      await message.channel.send(f\"\"\"\n",
        "        {message.author}, please refrain from such language! Strike: {map[message.author]} ( 3 strikes == Ban )\n",
        "      \"\"\")\n",
        "  # # Send message to channel, to check that we can read messages that are sent\n",
        "  # await message.channel.send(\"Cool, I can read the chat!\")"
      ],
      "execution_count": null,
      "outputs": []
    },
    {
      "cell_type": "code",
      "metadata": {
        "id": "zpJac-MHGza3"
      },
      "source": [
        "# client.run(TOKEN)\n",
        "\n",
        "# Note: In Colab or a Jupyter Notebook, regular client.run() \n",
        "# does not work due to conflict with the Notebook event loop and thus\n",
        "# need to use asyncio to create a COROUTINE on a separate event loop\n",
        "# (client.run internally calls start, and creates the loop whereas here we need to directly call start)\n",
        "task = asyncio.get_event_loop().create_task(client.start(TOKEN)) "
      ],
      "execution_count": null,
      "outputs": []
    },
    {
      "cell_type": "code",
      "metadata": {
        "colab": {
          "base_uri": "https://localhost:8080/"
        },
        "id": "tLoUC-s7LetX",
        "outputId": "9602ccc8-b333-4fb9-c3c8-6032359ba63f"
      },
      "source": [
        "# Stop the task (stop bot)\n",
        "task.cancel()"
      ],
      "execution_count": null,
      "outputs": [
        {
          "output_type": "execute_result",
          "data": {
            "text/plain": [
              "True"
            ]
          },
          "metadata": {},
          "execution_count": 216
        }
      ]
    },
    {
      "cell_type": "markdown",
      "metadata": {
        "id": "dX5I77ZcRNRG"
      },
      "source": [
        "# 6. Text parsing with regular expressions"
      ]
    },
    {
      "cell_type": "code",
      "metadata": {
        "colab": {
          "base_uri": "https://localhost:8080/",
          "height": 35
        },
        "id": "Y1tBYEUBRLyE",
        "outputId": "100040d1-47e6-40be-c76f-f282f0aec9e2"
      },
      "source": [
        "# Define a regular expression for pattern matching\n",
        "words = [\"pickle\", \"orange\"] # some bad words\n",
        "bad_word = words[0]\n",
        "text = \"i think pickles are good?\" # some text to parse\n",
        "found = re.search(bad_word, text)\n",
        "found.group(0)"
      ],
      "execution_count": null,
      "outputs": [
        {
          "output_type": "execute_result",
          "data": {
            "application/vnd.google.colaboratory.intrinsic+json": {
              "type": "string"
            },
            "text/plain": [
              "'pickle'"
            ]
          },
          "metadata": {},
          "execution_count": 182
        }
      ]
    },
    {
      "cell_type": "code",
      "metadata": {
        "colab": {
          "base_uri": "https://localhost:8080/"
        },
        "id": "eLZHhkBCSpUr",
        "outputId": "e8577b2d-bf8b-45b4-a32e-7c72dc53ca2d"
      },
      "source": [
        "text = \"i think p i c k l e s are good?\"\n",
        "found = re.search(bad_word, text)\n",
        "if found:\n",
        "  print(found.group(0))\n",
        "else:\n",
        "  print(\"seems like we didn't find any of the bad words, hmmmm\")"
      ],
      "execution_count": null,
      "outputs": [
        {
          "output_type": "stream",
          "name": "stdout",
          "text": [
            "seems like we didn't find any of the bad words, hmmmm\n"
          ]
        }
      ]
    },
    {
      "cell_type": "code",
      "metadata": {
        "colab": {
          "base_uri": "https://localhost:8080/",
          "height": 35
        },
        "id": "NjaMlOqXS94N",
        "outputId": "c2ff2054-b24e-4d7c-c0f2-85d3fa3233c2"
      },
      "source": [
        "text = \"i think p_i_c_k_l_e_s are good?\"\n",
        "\"\"\"\n",
        "'.'  : any character\n",
        "'\\s' : whitespace characters\n",
        "'\\d' : digits\n",
        "'\\w' : unicode character\n",
        "'*'  : match the previous character zero or more times\n",
        "'+'  : match the previous character one or more times\n",
        "'()' : grouping\n",
        "'[]' : match any one of the characters enclosed\n",
        "\"\"\"\n",
        "pattern = r\".*p.*i.*c.*k.*l.*e.*s.*\"\n",
        "found = re.search(pattern, text)\n",
        "found.group(0)"
      ],
      "execution_count": null,
      "outputs": [
        {
          "output_type": "execute_result",
          "data": {
            "application/vnd.google.colaboratory.intrinsic+json": {
              "type": "string"
            },
            "text/plain": [
              "'i think p_i_c_k_l_e_s are good?'"
            ]
          },
          "metadata": {},
          "execution_count": 184
        }
      ]
    },
    {
      "cell_type": "code",
      "metadata": {
        "colab": {
          "base_uri": "https://localhost:8080/"
        },
        "id": "FP1GPmuaXzxm",
        "outputId": "154edc61-c4a5-4c7c-9b92-655a6540bc55"
      },
      "source": [
        "# Algorithm1:\n",
        "# 1. Create an empty character array\n",
        "# Loop:\n",
        "#   2. Append the letter\n",
        "#   3. Append the .*\n",
        "# 4. join the character array as a single string with no separator\n",
        "def words_to_expresions_ver_1(words):\n",
        "  expressions = []\n",
        "  for word in words:\n",
        "    char_list = []\n",
        "    for letter in word:\n",
        "      char_list.append(letter)\n",
        "      char_list.append('.')\n",
        "      char_list.append('*')\n",
        "    expression = \"\".join(char_list)\n",
        "    print(f\"From algorithm1: {expression}\")\n",
        "  return expressions\n",
        "# Algorithm2:\n",
        "# 1. Split the word into it's character array -> [letter for letter in word]\n",
        "# 2. Join character array as string, separate the characters by .*\n",
        "def words_to_expressions(words):\n",
        "  expressions = []\n",
        "  for word in words:\n",
        "    pattern = \".*\".join([letter for letter in word])\n",
        "    print(f\"From algorithm2: {pattern}\")\n",
        "    expressions.append(pattern)\n",
        "  return expressions\n",
        "words_to_expresions_ver_1(words)\n",
        "print()\n",
        "expressions = words_to_expressions(words)"
      ],
      "execution_count": null,
      "outputs": [
        {
          "output_type": "stream",
          "name": "stdout",
          "text": [
            "From algorithm1: p.*i.*c.*k.*l.*e.*\n",
            "From algorithm1: o.*r.*a.*n.*g.*e.*\n",
            "\n",
            "From algorithm2: p.*i.*c.*k.*l.*e\n",
            "From algorithm2: o.*r.*a.*n.*g.*e\n"
          ]
        }
      ]
    },
    {
      "cell_type": "code",
      "metadata": {
        "colab": {
          "base_uri": "https://localhost:8080/"
        },
        "id": "sjajAQIpcTE6",
        "outputId": "94cd68d9-3caf-480e-ba18-d4c59168ae0d"
      },
      "source": [
        "expressions"
      ],
      "execution_count": null,
      "outputs": [
        {
          "output_type": "execute_result",
          "data": {
            "text/plain": [
              "['p.*i.*c.*k.*l.*e', 'o.*r.*a.*n.*g.*e']"
            ]
          },
          "metadata": {},
          "execution_count": 201
        }
      ]
    },
    {
      "cell_type": "code",
      "metadata": {
        "colab": {
          "base_uri": "https://localhost:8080/"
        },
        "id": "DiJDwW6wc83b",
        "outputId": "3553eef6-bfec-4f6a-e1fc-7541d6c5261a"
      },
      "source": [
        "# We have our text\n",
        "text = \"i think oranges are good?\"\n",
        "# call re.search on every expression in expressions and store as list\n",
        "found = [re.search(expr, text) for expr in expressions]\n",
        "print(found)"
      ],
      "execution_count": null,
      "outputs": [
        {
          "output_type": "stream",
          "name": "stdout",
          "text": [
            "[None, <re.Match object; span=(8, 19), match='oranges are'>]\n"
          ]
        }
      ]
    },
    {
      "cell_type": "code",
      "metadata": {
        "colab": {
          "base_uri": "https://localhost:8080/"
        },
        "id": "7ySrwsRUe9iG",
        "outputId": "04494d12-b189-4f37-b1b4-62c98eeac677"
      },
      "source": [
        "# any(iterable) -> returns True if any of the elements are True (None == False, 0 == False, False == False)\n",
        "if any(found):\n",
        "  print(\"We found a matching expression in the text\")\n",
        "else:\n",
        "  print(\"The text is clean!\")"
      ],
      "execution_count": null,
      "outputs": [
        {
          "output_type": "stream",
          "name": "stdout",
          "text": [
            "We found a matching expression in the text\n"
          ]
        }
      ]
    }
  ]
}