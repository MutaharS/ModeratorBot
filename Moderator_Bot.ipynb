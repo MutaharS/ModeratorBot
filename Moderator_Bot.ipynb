{
  "nbformat": 4,
  "nbformat_minor": 0,
  "metadata": {
    "colab": {
      "name": "Bot Workshop Complete File.ipynb",
      "provenance": [],
      "collapsed_sections": []
    },
    "kernelspec": {
      "name": "python3",
      "display_name": "Python 3"
    },
    "language_info": {
      "name": "python"
    }
  },
  "cells": [
    {
      "cell_type": "markdown",
      "metadata": {
        "id": "UQwfKz9o9tQp"
      },
      "source": [
        "<h2>References</h2>\n",
        "\n",
        "https://discordpy.readthedocs.io/en/stable/api.html\n",
        "\n",
        "https://discordpy.readthedocs.io/en/stable/ext/commands/api.html#"
      ]
    },
    {
      "cell_type": "markdown",
      "metadata": {
        "id": "SDE4ArXKZKTt"
      },
      "source": [
        "# 0. Python Review"
      ]
    },
    {
      "cell_type": "markdown",
      "metadata": {
        "id": "cRK3FA9EgRFA"
      },
      "source": [
        "## 0.1 Lists"
      ]
    },
    {
      "cell_type": "code",
      "metadata": {
        "colab": {
          "base_uri": "https://localhost:8080/"
        },
        "id": "HH8lXzTSZJpg",
        "outputId": "73a1d5dc-9fb3-419c-dac4-fdabb218fc70"
      },
      "source": [
        "# Creating a list\n",
        "sports = ['Soccer', 'Basketball', 'Baseball', 'Hockey']\n",
        "numbers = [1,2,3,4,5,6]\n",
        "\n",
        "# Adding items\n",
        "sports.append('Swimming')\n",
        "sports.extend(['Curling', 'Fooseball'])\n",
        "\n",
        "# Iterating through lists\n",
        "for i,sport in enumerate(sports):\n",
        "  print(f'Item {i+1}: {sport}')\n",
        "\n",
        "# List comprehensions\n",
        "numbers = [i+1 for i,sport in enumerate(sports)]\n",
        "print(numbers)\n",
        "\n",
        "# Indexing\n",
        "\n"
      ],
      "execution_count": null,
      "outputs": [
        {
          "output_type": "stream",
          "name": "stdout",
          "text": [
            "Item 1: Soccer\n",
            "Item 2: Basketball\n",
            "Item 3: Baseball\n",
            "Item 4: Hockey\n",
            "Item 5: Swimming\n",
            "Item 6: Curling\n",
            "Item 7: Fooseball\n",
            "[1, 2, 3, 4, 5, 6, 7]\n",
            "[7, 6, 5, 4, 3, 2, 1]\n"
          ]
        }
      ]
    },
    {
      "cell_type": "markdown",
      "metadata": {
        "id": "x-xQEeJ1gTRg"
      },
      "source": [
        "## 0.2 Maps"
      ]
    },
    {
      "cell_type": "code",
      "metadata": {
        "id": "8x8wNyXNZmld"
      },
      "source": [
        "# Creating a map\n",
        "map = {}\n",
        "\n",
        "# Storing key,value pairs\n",
        "map['key'] = 'value'\n",
        "map[5] = 'another_value'\n",
        "\n",
        "# Checking if a key exists\n",
        "my_keys = map.keys()\n",
        "print(f'My Keys: {my_keys}')\n",
        "if 5 in map.keys():\n",
        "  print('The key exists')\n",
        "else:\n",
        "  print('The key does not exist')\n",
        "\n",
        "# Iterating through k,v pairs (items)\n",
        "# Removing keys\n",
        "\n",
        "del map"
      ],
      "execution_count": null,
      "outputs": []
    },
    {
      "cell_type": "markdown",
      "metadata": {
        "id": "GZ2XGjYlnKv1"
      },
      "source": [
        "## 0.3 Nested Structures"
      ]
    },
    {
      "cell_type": "code",
      "metadata": {
        "colab": {
          "base_uri": "https://localhost:8080/"
        },
        "id": "1wxkYeXkbWk4",
        "outputId": "044a0aad-3110-47cc-be1b-d425c4070be8"
      },
      "source": [
        "# List of Lists, Dictionary with Lists, etc.\n",
        "\n",
        "import json\n",
        "my_map = {}\n",
        "KEY = 'LISTS'\n",
        "my_map[KEY] = sports\n",
        "metadata = {}\n",
        "metadata['timestamp'] = \"12:05pm\"\n",
        "metadata['url'] = 'https://google.com'\n",
        "metadata['name'] = 'Google'\n",
        "sports.append(metadata)\n",
        "printable = json.dumps(my_map, indent=4)\n",
        "print(printable)\n",
        "url = my_map['LISTS'][7]['url']\n",
        "print(url)"
      ],
      "execution_count": null,
      "outputs": [
        {
          "output_type": "stream",
          "name": "stdout",
          "text": [
            "{\n",
            "    \"LISTS\": [\n",
            "        \"Soccer\",\n",
            "        \"Basketball\",\n",
            "        \"Baseball\",\n",
            "        \"Hockey\",\n",
            "        \"Swimming\",\n",
            "        \"Curling\",\n",
            "        \"Fooseball\",\n",
            "        {\n",
            "            \"timestamp\": \"12:05pm\",\n",
            "            \"url\": \"https://google.com\",\n",
            "            \"name\": \"Google\"\n",
            "        }\n",
            "    ]\n",
            "}\n",
            "https://google.com\n"
          ]
        }
      ]
    },
    {
      "cell_type": "markdown",
      "metadata": {
        "id": "C4JaRltTnqKh"
      },
      "source": [
        "## 0.4 Object Oriented (IMPORTANT!!!!)"
      ]
    },
    {
      "cell_type": "code",
      "metadata": {
        "colab": {
          "base_uri": "https://localhost:8080/"
        },
        "id": "-xyP-EzKnpnz",
        "outputId": "cfc9395c-2690-4d1e-e559-84e040a0fcee"
      },
      "source": [
        "# Define member class\n",
        "class Member:\n",
        "  def __init__(self, name: str, age: int):\n",
        "    self.name = name\n",
        "    self.age = age\n",
        "  \n",
        "  def __str__(self):\n",
        "    return f'(Name: {self.name} , Age: {self.age})'\n",
        "\n",
        "# Define some members\n",
        "mem1 = Member('Joe', 21)\n",
        "mem2 = Member('Julio', 18)\n",
        "mem3 = Member('Mike', 5)\n",
        "mem4 = Member('Sally', 22)\n",
        "member_list = [mem1,mem2,mem3,mem4]\n",
        "\n",
        "# Define the server\n",
        "class DiscordServer:\n",
        "  def __init__(self, name: str, ID: int):\n",
        "    self.name = name\n",
        "    self.ID = ID\n",
        "    self.members = []\n",
        "  \n",
        "  def addMember(self, member: Member):\n",
        "    self.members.append(member)\n",
        "\n",
        "  def __str__(self):\n",
        "    output = \"\"\n",
        "    output += self.name + '\\n'\n",
        "    for mem in self.members:\n",
        "      output += str(mem) + '\\n'\n",
        "    return output\n",
        "\n",
        "# Create the server\n",
        "Guild = DiscordServer(\"GDSC Club\", 123)\n",
        "\n",
        "# Add our members\n",
        "for mem in member_list:\n",
        "  Guild.addMember(mem)\n",
        "\n",
        "print(Guild)"
      ],
      "execution_count": null,
      "outputs": [
        {
          "output_type": "stream",
          "name": "stdout",
          "text": [
            "GDSC Club\n",
            "(Name: Joe , Age: 21)\n",
            "(Name: Julio , Age: 18)\n",
            "(Name: Mike , Age: 5)\n",
            "(Name: Sally , Age: 22)\n",
            "\n"
          ]
        }
      ]
    },
    {
      "cell_type": "markdown",
      "metadata": {
        "id": "wblCzsuPqK8I"
      },
      "source": [
        "## 0.5 An Aside about Lambda Functions"
      ]
    },
    {
      "cell_type": "code",
      "metadata": {
        "colab": {
          "base_uri": "https://localhost:8080/"
        },
        "id": "-688C48mqJqz",
        "outputId": "99cc85ee-25be-4ec1-f4b3-43b9c9828547"
      },
      "source": [
        "# sorted\n",
        "nums = [100,-5,2,-70]\n",
        "s = sorted(nums)\n",
        "print(s)\n",
        "print('')\n",
        "\n",
        "# lambda functions\n",
        "func1 = lambda x: x + 1\n",
        "func2 = lambda mem1,mem2: mem1.age < mem2.age\n",
        "print(func1(10))\n",
        "print(func2(mem1,mem2))\n",
        "\n",
        "# Useful for working with objects\n",
        "sorted_members = sorted(Guild.members, key=lambda m: m.age)\n",
        "for mem in sorted_members:\n",
        "  print(str(mem))"
      ],
      "execution_count": null,
      "outputs": [
        {
          "output_type": "stream",
          "name": "stdout",
          "text": [
            "[-70, -5, 2, 100]\n",
            "\n",
            "11\n",
            "False\n",
            "(Name: Mike , Age: 5)\n",
            "(Name: Julio , Age: 18)\n",
            "(Name: Joe , Age: 21)\n",
            "(Name: Sally , Age: 22)\n"
          ]
        }
      ]
    },
    {
      "cell_type": "markdown",
      "metadata": {
        "id": "9lbFCQDBEN9a"
      },
      "source": [
        "# 1. Preliminaries"
      ]
    },
    {
      "cell_type": "markdown",
      "metadata": {
        "id": "KF3F9OLgBBP2"
      },
      "source": [
        "## 1.1 Setup Discord\n",
        "<p>\n",
        "  <ul>\n",
        "    <li>Create Discord account, confirm email, set developer mode on in settings</li>\n",
        "    <li>Create a server</li>\n",
        "    <li>Go to discord.com/developers/ and create an application</li>\n",
        "    <li>Create a bot, declare intents, add to server</li>\n",
        "    \n",
        "  </ul>\n",
        "</p>\n"
      ]
    },
    {
      "cell_type": "markdown",
      "metadata": {
        "id": "4_SongFFbaqV"
      },
      "source": [
        "## 1.2 Install Dependencies"
      ]
    },
    {
      "cell_type": "code",
      "metadata": {
        "id": "qmba0xDUGIjI"
      },
      "source": [
        "# Install using pip (Python Package Manager)\n",
        "!pip install discord.py\n",
        "!pip install colab-env --upgrade\n",
        "!pip install tabulate"
      ],
      "execution_count": null,
      "outputs": []
    },
    {
      "cell_type": "markdown",
      "metadata": {
        "id": "CzCjV6MSEWnQ"
      },
      "source": [
        "## 1.3 Setup Google Drive Access"
      ]
    },
    {
      "cell_type": "code",
      "metadata": {
        "id": "HklQEGN4GJBX"
      },
      "source": [
        "# Give Colab Access to Google Drive\n",
        "from google.colab import drive\n",
        "drive.mount('/content/drive/')"
      ],
      "execution_count": null,
      "outputs": []
    },
    {
      "cell_type": "markdown",
      "metadata": {
        "id": "w-Af3fuPmpiY"
      },
      "source": [
        "##1.4 Imports"
      ]
    },
    {
      "cell_type": "code",
      "metadata": {
        "id": "3o4xJqVCmxAP"
      },
      "source": [
        "# Import the necessary modules/libraries we'll need\n",
        "import discord\n",
        "from discord.ext import commands\n",
        "import colab_env\n",
        "import os, re, requests, random, asyncio, json\n",
        "from tabulate import tabulate"
      ],
      "execution_count": null,
      "outputs": []
    },
    {
      "cell_type": "markdown",
      "metadata": {
        "id": "D7VVa303Cm5O"
      },
      "source": [
        "# 1.5 Setup Environment Variables (Discord Token)\n"
      ]
    },
    {
      "cell_type": "code",
      "metadata": {
        "id": "eqvKWCVupbA9"
      },
      "source": [
        "# Add discord token as environment variable\n",
        "colab_env.envvar_handler.add_env('TOKEN', '***', overwrite=True)"
      ],
      "execution_count": null,
      "outputs": []
    },
    {
      "cell_type": "code",
      "metadata": {
        "id": "tg_rfUy582sr"
      },
      "source": [
        "# Terminal commands to check out the files in our drive\n",
        "!ls"
      ],
      "execution_count": null,
      "outputs": []
    },
    {
      "cell_type": "code",
      "metadata": {
        "id": "vuV4Wokl848u"
      },
      "source": [
        "!cat gdrive/MyDrive/vars.env"
      ],
      "execution_count": null,
      "outputs": []
    },
    {
      "cell_type": "markdown",
      "metadata": {
        "id": "yBDPe5l7mIhu"
      },
      "source": [
        "# 2. Common Objects We'll Work With"
      ]
    },
    {
      "cell_type": "markdown",
      "metadata": {
        "id": "uuYWyHN7k2v7"
      },
      "source": [
        "<h3>TextChannel</h3>\n",
        "\n",
        "---\n",
        "\n",
        "<ul>\n",
        "  <li>id</li>\n",
        "  <li>name</li>\n",
        "  <li>last_message</li>\n",
        "  <li>members</li>\n",
        "  <li>history(limit)</li>\n",
        "  <li>send(content)</li>\n",
        "</ul>\n",
        "\n",
        "<h3>Member</h3>\n",
        "\n",
        "---\n",
        "\n",
        "<ul>\n",
        "  <li>id</li>\n",
        "  <li>name</li>\n",
        "  <li>history(limit)</li>\n",
        "  <li>send(content)</li>\n",
        "  <li>kick(reason)</li>\n",
        "  <li>ban()</li>\n",
        "  <li>unban(reason)</li>\n",
        "</ul>\n",
        "\n",
        "<h3>Message</h3>\n",
        "\n",
        "---\n",
        "\n",
        "<ul>\n",
        "  <li>author</li>\n",
        "  <li>channel</li>\n",
        "  <li>add_reaction(emoji)</li>\n",
        "  <li>reply(content)</li>\n",
        "</ul>\n",
        "\n",
        "<h3>Context (Command Based)</h3>\n",
        "\n",
        "---\n",
        "\n",
        "<ul>\n",
        "  <li>guild</li>\n",
        "  <li>channel</li>\n",
        "  <li>message</li>\n",
        "  <li>send(content)</li>\n",
        "  <li>reply(content)</li>\n",
        "</ul>\n",
        "\n",
        "<h3>Utility Functions</h3>\n",
        "\n",
        "---\n",
        "\n",
        "<ul>\n",
        "  <li>discord.utils.find(predicate, iterable)</li>\n",
        "  <li>discord.utils.get(iterable, **attrs)</li>\n",
        "</ul>"
      ]
    },
    {
      "cell_type": "markdown",
      "metadata": {
        "id": "sCOxft0_EGol"
      },
      "source": [
        "# 3. Let's Get Our Bot Running!!"
      ]
    },
    {
      "cell_type": "markdown",
      "metadata": {
        "id": "zc0LU3SbAZWr"
      },
      "source": [
        "### Tenor Setup"
      ]
    },
    {
      "cell_type": "code",
      "metadata": {
        "id": "hRmPE-tizpUy",
        "colab": {
          "base_uri": "https://localhost:8080/"
        },
        "outputId": "383c7189-bdc1-4d2b-c9d9-a69a609d04ff"
      },
      "source": [
        "# PUBLIC TENOR API KEY\n",
        "PUB_TENOR_KEY = 'LIVDSRZULELA'\n",
        "\n",
        "# Define the search parameters\n",
        "query = 'welcome'\n",
        "query = query.replace(' ', '+')\n",
        "limit = 5\n",
        "\n",
        "# Send the http request\n",
        "request = f'https://g.tenor.com/v1/search?q={query}&key={PUB_TENOR_KEY}&limit={limit}'\n",
        "response = requests.get(request)\n",
        "\n",
        "# Process the http response\n",
        "if response.status_code == 200:\n",
        "  results = response.json()['results']\n",
        "  chosen_result = random.choice(results)\n",
        "  gif_url = chosen_result['url']\n",
        "  print(gif_url)"
      ],
      "execution_count": null,
      "outputs": [
        {
          "output_type": "stream",
          "name": "stdout",
          "text": [
            "https://tenor.com/bmRRR.gif\n"
          ]
        }
      ]
    },
    {
      "cell_type": "code",
      "metadata": {
        "colab": {
          "base_uri": "https://localhost:8080/",
          "height": 36
        },
        "id": "DO6El0ZxFNoc",
        "outputId": "5c79247c-7c4a-4e93-f9bf-243a9f9ca15e"
      },
      "source": [
        "# How to get to a gif url\n",
        "response.json()['results'][0]['url']"
      ],
      "execution_count": null,
      "outputs": [
        {
          "output_type": "execute_result",
          "data": {
            "application/vnd.google.colaboratory.intrinsic+json": {
              "type": "string"
            },
            "text/plain": [
              "'https://tenor.com/5PGb.gif'"
            ]
          },
          "metadata": {},
          "execution_count": 12
        }
      ]
    },
    {
      "cell_type": "markdown",
      "metadata": {
        "id": "PL0djViYAcOL"
      },
      "source": [
        "### Stipop Setup"
      ]
    },
    {
      "cell_type": "code",
      "metadata": {
        "id": "s6rsLZH6Agvp"
      },
      "source": [
        "# STICKER API KEY\n",
        "DEMO_STI_KEY = \"***\"\n",
        "\n",
        "# Define the search parameters\n",
        "query = 'query'\n",
        "query = query.replace(' ', '+')\n",
        "limit = 5\n",
        "url = f'https://messenger.stipop.io/v1/search?userId={1}&q={query}&lang=en&pageNumber={1}&limit={limit}'\n",
        "\n",
        "# Send the http request\n",
        "response = requests.get(url, headers={'apikey' : DEMO_STI_KEY})\n",
        "\n",
        "# Process the http response\n",
        "if response.status_code == 200:\n",
        "  sticker_results = response.json()['body']['stickerList']\n",
        "  sticker_url = random.choice(sticker_results)['stickerImg']\n",
        "else:\n",
        "  print('Sorry, could not find the sticker.')"
      ],
      "execution_count": null,
      "outputs": []
    },
    {
      "cell_type": "code",
      "metadata": {
        "colab": {
          "base_uri": "https://localhost:8080/",
          "height": 36
        },
        "id": "gJoejRFSBdAF",
        "outputId": "e8058805-01f4-4b4c-d0a7-4d5c8a92898c"
      },
      "source": [
        "# How to get to a sticker url\n",
        "response.json()['body']['stickerList'][0]['stickerImg']"
      ],
      "execution_count": null,
      "outputs": [
        {
          "output_type": "execute_result",
          "data": {
            "application/vnd.google.colaboratory.intrinsic+json": {
              "type": "string"
            },
            "text/plain": [
              "'https://img.stipop.io/2020/10/19/1603448719388_19.png'"
            ]
          },
          "metadata": {},
          "execution_count": 15
        }
      ]
    },
    {
      "cell_type": "markdown",
      "metadata": {
        "id": "bx2XGloxAkD_"
      },
      "source": [
        "###Discord Setup"
      ]
    },
    {
      "cell_type": "code",
      "metadata": {
        "id": "AvJBwFumnTo6"
      },
      "source": [
        "# Get our token\n",
        "TOKEN = os.getenv('TOKEN')\n",
        "\n",
        "# Give Discord our intentions\n",
        "intents = discord.Intents.all()\n",
        "\n",
        "# Define our client\n",
        "client = commands.Bot(intents=intents, command_prefix='$')\n",
        "\n",
        "del map\n",
        "map = {}"
      ],
      "execution_count": null,
      "outputs": []
    },
    {
      "cell_type": "markdown",
      "metadata": {
        "id": "kYQdkZWfVSED"
      },
      "source": [
        "## 3.1 Define how the bot should operate"
      ]
    },
    {
      "cell_type": "markdown",
      "metadata": {
        "id": "tyk2Wl-86srs"
      },
      "source": [
        "### Event: On Ready"
      ]
    },
    {
      "cell_type": "code",
      "metadata": {
        "id": "sTfeuPU3ff09"
      },
      "source": [
        "# Note:\n",
        "# Remember to decorate each function!!!\n",
        "\n",
        "# First Bot Event\n",
        "# Send a message when the bot connects to Discord\n",
        "@client.event\n",
        "async def on_ready():\n",
        "  general = client.get_channel(899019412525445184)\n",
        "  await general.send(\"Connected to Discord!!\")"
      ],
      "execution_count": null,
      "outputs": []
    },
    {
      "cell_type": "markdown",
      "metadata": {
        "id": "pYSMSKMKVYwi"
      },
      "source": [
        "### Run the bot"
      ]
    },
    {
      "cell_type": "code",
      "metadata": {
        "id": "o7sTJJeMLt9j"
      },
      "source": [
        "# Note: In Colab or a Jupyter Notebook, regular client.run() \n",
        "# does not work due to conflict with the Notebook event loop and thus\n",
        "# need to use asyncio to create a COROUTINE on a separate event loop\n",
        "# (client.run internally calls start, and creates the loop whereas here we need to directly call start)\n",
        "task = asyncio.get_event_loop().create_task(client.start(TOKEN)) "
      ],
      "execution_count": null,
      "outputs": []
    },
    {
      "cell_type": "markdown",
      "metadata": {
        "id": "gSx6Qy5kVcBx"
      },
      "source": [
        "### Stop the bot"
      ]
    },
    {
      "cell_type": "code",
      "metadata": {
        "id": "jHS1ze2AL6Pj",
        "colab": {
          "base_uri": "https://localhost:8080/"
        },
        "outputId": "732ddf0b-185c-4ae1-e5f4-452d605e81db"
      },
      "source": [
        "task.cancel()"
      ],
      "execution_count": null,
      "outputs": [
        {
          "output_type": "execute_result",
          "data": {
            "text/plain": [
              "False"
            ]
          },
          "metadata": {},
          "execution_count": 67
        }
      ]
    },
    {
      "cell_type": "markdown",
      "metadata": {
        "id": "ahKcFEqk6-zb"
      },
      "source": [
        "### Event: On Member Join"
      ]
    },
    {
      "cell_type": "code",
      "metadata": {
        "id": "BoqO-zToht-0"
      },
      "source": [
        "# WELCOME BOT\n",
        "# Send a GIF and a welcome message to newly joined members\n",
        "@client.event\n",
        "async def on_member_join(member):\n",
        "  # Make the HTTP request\n",
        "  response = requests.get(request)\n",
        "  if response.status_code == 200:\n",
        "    choice = random.randint(0,limit-1)\n",
        "    results = response.json()['results']\n",
        "    chosen_result = results[choice]\n",
        "    gif_url = chosen_result['url']\n",
        "    # Send content to newly joined member\n",
        "    await member.send(gif_url)\n",
        "  await member.send(f'Hello {member.name}! Welcome to the club!')"
      ],
      "execution_count": null,
      "outputs": []
    },
    {
      "cell_type": "markdown",
      "metadata": {
        "id": "Nvr-mpXV7dsu"
      },
      "source": [
        "### Event: On Message"
      ]
    },
    {
      "cell_type": "code",
      "metadata": {
        "id": "2CdQpJQqeDUb"
      },
      "source": [
        "# Let's define some bad words for our moderator to detect (AFTER EXPLAINING RegEx)\n",
        "bad_words = ['pickle', 'tomato', 'oracle']\n",
        "bad_words = words_to_expressions(bad_words)\n",
        "bad_words"
      ],
      "execution_count": null,
      "outputs": []
    },
    {
      "cell_type": "code",
      "metadata": {
        "id": "LOjS7qx8GKdF"
      },
      "source": [
        "# MODERATOR EVENTS \n",
        "# (NEED TO CALL await client.process_commands(message) at the end OTHERWISE CAN'T ISSUE COMMANDS)\n",
        "# Listen for messages\n",
        "@client.event\n",
        "async def on_message(message):\n",
        "  # We don't want to call this on our own messages (infinite feedback loop == bad)\n",
        "  if message.author == client.user:\n",
        "    return\n",
        "\n",
        "  # Let's moderate!\n",
        "  found = [re.search(word, message.content.lower()) for word in bad_words]\n",
        "  if any(found):\n",
        "    # Keep track of the offending user's strikes\n",
        "    if message.author in map.keys():\n",
        "      map[message.author] += 1\n",
        "    else:\n",
        "      map[message.author] = 1\n",
        "    # If they exceed 3 strikes, that's a ban/kick or whatever it may be\n",
        "    if map[message.author] >= 3:\n",
        "      await message.channel.send(f'Sorry {message.author}, you\\'re outta here.')\n",
        "      await message.author.kick(reason=\"Violated community guidelines.\")\n",
        "    else:\n",
        "      await message.channel.send(f\"{message.author}, please refrain from such language!\\nStrikes: {map[message.author]}\")\n",
        "  await client.process_commands(message)\n",
        "  # # Send message to channel, to check that we can read messages that are sent\n",
        "  # await message.channel.send(\"Cool, I can read the chat!\")"
      ],
      "execution_count": null,
      "outputs": []
    },
    {
      "cell_type": "markdown",
      "metadata": {
        "id": "ufA580eF7lc_"
      },
      "source": [
        "### Command: Get Strikes"
      ]
    },
    {
      "cell_type": "code",
      "metadata": {
        "id": "V7yXsLCIotxj"
      },
      "source": [
        "# Get Strikes Command\n",
        "# $strikes\n",
        "\n",
        "@client.command()\n",
        "async def strikes(ctx):\n",
        "  headers = [\"User\", \"Strikes\", \"Status\"]\n",
        "  records = []\n",
        "  for k,v in map.items():\n",
        "    user = discord.utils.find(lambda m: m == k, ctx.guild.members)\n",
        "    # Continue if some problem finding the user\n",
        "    if user == None:\n",
        "        continue\n",
        "    # Check status\n",
        "    if v == 0:\n",
        "      status = \"Great\"\n",
        "    elif v == 1:\n",
        "      status = \"Okay\"\n",
        "    elif v == 2:\n",
        "      status = \"Danger\"\n",
        "    else:\n",
        "      status = \"Kicked\"\n",
        "    records.append([f\"{user.name}\", f\"{map[user]}\", f\"{status}\"])\n",
        "  table = tabulate(records, headers=headers, tablefmt=\"github\", stralign=\"center\", numalign=\"center\")\n",
        "  await ctx.send(table)"
      ],
      "execution_count": null,
      "outputs": []
    },
    {
      "cell_type": "markdown",
      "metadata": {
        "id": "28FP6WrC74M1"
      },
      "source": [
        "### Command: Send a Gif"
      ]
    },
    {
      "cell_type": "code",
      "metadata": {
        "id": "VtE2TEx9C4rs"
      },
      "source": [
        "# Gif Command\n",
        "# $gif\n",
        "\n",
        "@client.command()\n",
        "async def gif(ctx, search):\n",
        "  await ctx.send('Attempting to find gif')\n",
        "  search = search.replace(' ', '+')\n",
        "  request = f'https://g.tenor.com/v1/search?q={search}&key={PUB_TENOR_KEY}&limit={limit}'\n",
        "  response = requests.get(request)\n",
        "  if response.status_code == 200:\n",
        "    choice = random.randint(0,limit-1)\n",
        "    results = response.json()['results']\n",
        "    chosen_result = results[choice]\n",
        "    gif_url = chosen_result['url']\n",
        "    await ctx.send(gif_url)\n",
        "  else:\n",
        "    await ctx.send('Could not find a gif for that search')"
      ],
      "execution_count": null,
      "outputs": []
    },
    {
      "cell_type": "markdown",
      "metadata": {
        "id": "6uDA_MUz8Afj"
      },
      "source": [
        "### Command: Send a Sticker"
      ]
    },
    {
      "cell_type": "code",
      "metadata": {
        "id": "KVOWq0zuZOWD"
      },
      "source": [
        "# Sticker Command\n",
        "# $sticker [search]\n",
        "\n",
        "@client.command()\n",
        "async def sticker(ctx, search):\n",
        "  await ctx.send('Attempting to find sticker')\n",
        "  query = search.replace(' ', '+')\n",
        "  url = f'https://messenger.stipop.io/v1/search?userId={1}&q={query}&lang=en&pageNumber={1}&limit={1}'\n",
        "  my_key = \"39450ba1a2a3803704e956e3f08643f4\"\n",
        "  r = requests.get(url, headers={'apikey' : my_key})\n",
        "  await ctx.send('Made the http request')\n",
        "  if r.status_code == 200:\n",
        "    sticker_url = r.json()['body']['stickerList'][0]['stickerImg']\n",
        "    await ctx.send(sticker_url)\n",
        "  else:\n",
        "    await ctx.send('Sorry, could not find the sticker.')"
      ],
      "execution_count": null,
      "outputs": []
    },
    {
      "cell_type": "markdown",
      "metadata": {
        "id": "dX5I77ZcRNRG"
      },
      "source": [
        "# 4. Text Parsing With Regular Expressions\n",
        "<h3>Python 're' module</h3>\n",
        "\n",
        "---\n",
        "\n",
        "<ul>\n",
        "  <li>search(pattern, text)  -> Match Object</li>\n",
        "  <li>findall(pattern, text) -> List[str]</li>\n",
        "  <li>split(pattern, text) -> List[str]</li>\n",
        "</ul>\n"
      ]
    },
    {
      "cell_type": "markdown",
      "metadata": {
        "id": "jJG6P35XFqf1"
      },
      "source": [
        "## 3.1 Motivation for RegEx"
      ]
    },
    {
      "cell_type": "code",
      "metadata": {
        "colab": {
          "base_uri": "https://localhost:8080/",
          "height": 35
        },
        "id": "Y1tBYEUBRLyE",
        "outputId": "550db678-41b3-4a75-c713-34561b8e24da"
      },
      "source": [
        "# Define a regular expression for pattern matching\n",
        "# Search a text for a word\n",
        "words = [\"pickle\", \"orange\"] # some bad words\n",
        "bad_word = words[0]\n",
        "text = \"i think pickles are good?\" # some text to parse\n",
        "found = re.search(bad_word, text)\n",
        "found.group(0)"
      ],
      "execution_count": null,
      "outputs": [
        {
          "output_type": "execute_result",
          "data": {
            "application/vnd.google.colaboratory.intrinsic+json": {
              "type": "string"
            },
            "text/plain": [
              "'pickle'"
            ]
          },
          "metadata": {},
          "execution_count": 10
        }
      ]
    },
    {
      "cell_type": "code",
      "metadata": {
        "colab": {
          "base_uri": "https://localhost:8080/"
        },
        "id": "eLZHhkBCSpUr",
        "outputId": "8bacafa8-ea9a-457f-99b4-ab2ea7efd0e3"
      },
      "source": [
        "# What if there is some variance in the text?\n",
        "text = \"i think p i c k l e s are good?\"\n",
        "found = re.search(bad_word, text)\n",
        "if found:\n",
        "  print(found.group(0))\n",
        "else:\n",
        "  print(\"seems like we didn't find any of the bad words, hmmmm\")"
      ],
      "execution_count": null,
      "outputs": [
        {
          "output_type": "stream",
          "name": "stdout",
          "text": [
            "seems like we didn't find any of the bad words, hmmmm\n"
          ]
        }
      ]
    },
    {
      "cell_type": "code",
      "metadata": {
        "colab": {
          "base_uri": "https://localhost:8080/",
          "height": 35
        },
        "id": "NjaMlOqXS94N",
        "outputId": "5edd1c5b-90be-4b15-a472-bc16fb521eb3"
      },
      "source": [
        "text = \"i think p_i_c_k_l_e_s are good?\"\n",
        "\"\"\"\n",
        "'.'  : any character\n",
        "'\\s' : whitespace characters\n",
        "'\\d' : digits\n",
        "'\\w' : unicode character\n",
        "'*'  : match the previous character zero or more times\n",
        "'+'  : match the previous character one or more times\n",
        "'()' : grouping\n",
        "'[]' : match any one of the characters enclosed\n",
        "\"\"\"\n",
        "pattern = r\".*p.*i.*c.*k.*l.*e.*s.*\"\n",
        "found = re.search(pattern, text)\n",
        "found.group(0)"
      ],
      "execution_count": null,
      "outputs": [
        {
          "output_type": "execute_result",
          "data": {
            "application/vnd.google.colaboratory.intrinsic+json": {
              "type": "string"
            },
            "text/plain": [
              "'i think p_i_c_k_l_e_s are good?'"
            ]
          },
          "metadata": {},
          "execution_count": 12
        }
      ]
    },
    {
      "cell_type": "code",
      "metadata": {
        "colab": {
          "base_uri": "https://localhost:8080/"
        },
        "id": "FP1GPmuaXzxm",
        "outputId": "53152c34-03f5-46a1-e9d4-ff0a79b0c29f"
      },
      "source": [
        "# Algorithm1:\n",
        "# 1. Create an empty character array\n",
        "# Loop:\n",
        "#   2. Append the letter\n",
        "#   3. Append the .*\n",
        "# 4. join the character array as a single string with no separator\n",
        "def words_to_expresions_c_style(words):\n",
        "  expressions = []\n",
        "  for word in words:\n",
        "    char_list = []\n",
        "    for letter in word:\n",
        "      char_list.append(letter)\n",
        "      char_list.append('.')\n",
        "      char_list.append('*')\n",
        "    expression = \"\"\n",
        "    for letter in char_list:\n",
        "      expression += letter\n",
        "    expressions.append(expression)\n",
        "    print(f\"From algorithm1: {expression}\")\n",
        "  return expressions\n",
        "  \n",
        "# Algorithm2:\n",
        "# 1. Split the word into it's character array -> [letter for letter in word]\n",
        "# 2. Join character array as string, separate the characters by .*\n",
        "def words_to_expressions(words):\n",
        "  expressions = []\n",
        "  for word in words:\n",
        "    pattern = \".*\".join(list(word))\n",
        "    print(f\"From algorithm2: {pattern}\")\n",
        "    expressions.append(pattern)\n",
        "  return expressions\n",
        "words_to_expresions_ver_1(words)\n",
        "print()\n",
        "expressions = words_to_expressions(words)"
      ],
      "execution_count": null,
      "outputs": [
        {
          "output_type": "stream",
          "name": "stdout",
          "text": [
            "From algorithm1: p.*i.*c.*k.*l.*e.*\n",
            "From algorithm1: o.*r.*a.*n.*g.*e.*\n",
            "\n",
            "From algorithm2: p.*i.*c.*k.*l.*e\n",
            "From algorithm2: o.*r.*a.*n.*g.*e\n"
          ]
        }
      ]
    },
    {
      "cell_type": "code",
      "metadata": {
        "colab": {
          "base_uri": "https://localhost:8080/"
        },
        "id": "sjajAQIpcTE6",
        "outputId": "8a779aa8-2ea8-4848-d185-c85da35b916c"
      },
      "source": [
        "expressions"
      ],
      "execution_count": null,
      "outputs": [
        {
          "output_type": "execute_result",
          "data": {
            "text/plain": [
              "['p.*i.*c.*k.*l.*e', 'o.*r.*a.*n.*g.*e']"
            ]
          },
          "metadata": {},
          "execution_count": 243
        }
      ]
    },
    {
      "cell_type": "code",
      "metadata": {
        "colab": {
          "base_uri": "https://localhost:8080/"
        },
        "id": "DiJDwW6wc83b",
        "outputId": "027b88c0-4394-4517-de32-250774c02785"
      },
      "source": [
        "# We have our text\n",
        "text = \"i think oranges are good?\"\n",
        "# call re.search on every expression in expressions and store as list\n",
        "found = [re.search(expr, text) for expr in expressions]\n",
        "print(found)"
      ],
      "execution_count": null,
      "outputs": [
        {
          "output_type": "stream",
          "name": "stdout",
          "text": [
            "[None, <re.Match object; span=(8, 19), match='oranges are'>]\n"
          ]
        }
      ]
    },
    {
      "cell_type": "code",
      "metadata": {
        "colab": {
          "base_uri": "https://localhost:8080/"
        },
        "id": "7ySrwsRUe9iG",
        "outputId": "20ca64f6-72c7-4fdf-c231-ce4fe5dfc750"
      },
      "source": [
        "# any(iterable) -> returns True if any of the elements are True (None == False, 0 == False, False == False)\n",
        "if any(found):\n",
        "  print(\"We found a matching expression in the text\")\n",
        "else:\n",
        "  print(\"The text is clean!\")"
      ],
      "execution_count": null,
      "outputs": [
        {
          "output_type": "stream",
          "name": "stdout",
          "text": [
            "We found a matching expression in the text\n"
          ]
        }
      ]
    },
    {
      "cell_type": "code",
      "metadata": {
        "id": "ETWTwTPoDHHc",
        "colab": {
          "base_uri": "https://localhost:8080/",
          "height": 70
        },
        "outputId": "1dfc1f13-5899-450a-9e0f-381d1f87dc57"
      },
      "source": [
        "# Case Study System Path Simplification (if there is interest) (FAANG Interview Question)\n",
        "\"\"\"\n",
        "Given an abolute file path:\n",
        "  Find the canonical path\n",
        "\n",
        "In a Unix-style file system, a period '.' refers to the current directory, \n",
        "a double period '..' refers to the directory up a level, \n",
        "and any multiple consecutive slashes (i.e. '//') are treated as a single slash '/'. \n",
        "\n",
        "Input: path = \"/a/./b/../../c/\"\n",
        "Output: \"/c\"\n",
        "\"\"\""
      ],
      "execution_count": null,
      "outputs": [
        {
          "output_type": "execute_result",
          "data": {
            "application/vnd.google.colaboratory.intrinsic+json": {
              "type": "string"
            },
            "text/plain": [
              "'\\nGiven an abolute file path:\\n  Find the canonical path\\n\\nIn a Unix-style file system, a period \\'.\\' refers to the current directory, \\na double period \\'..\\' refers to the directory up a level, \\nand any multiple consecutive slashes (i.e. \\'//\\') are treated as a single slash \\'/\\'. \\n\\nInput: path = \"/a/./b/../../c/\"\\nOutput: \"/c\"\\n'"
            ]
          },
          "metadata": {},
          "execution_count": 49
        }
      ]
    }
  ]
}